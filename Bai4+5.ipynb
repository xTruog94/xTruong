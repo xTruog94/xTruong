{
 "cells": [
  {
   "cell_type": "markdown",
   "metadata": {},
   "source": [
    "# Check path and connected"
   ]
  },
  {
   "cell_type": "markdown",
   "metadata": {},
   "source": [
    "## BFS to check path"
   ]
  },
  {
   "cell_type": "code",
   "execution_count": 41,
   "metadata": {},
   "outputs": [],
   "source": [
    " from collections import defaultdict \n",
    "   \n",
    "#This class represents a directed graph using adjacency list representation \n",
    "class Graph: \n",
    "   \n",
    "    def __init__(self,vertices): \n",
    "        self.V= vertices #No. of vertices \n",
    "        self.graph = defaultdict(list) # default dictionary to store graph \n",
    "   \n",
    "    # function to add an edge to graph \n",
    "    def addEdge(self,u,v): \n",
    "        self.graph[u].append(v) \n",
    "       \n",
    "     # Use BFS to check path between s and d \n",
    "    def isReachable(self, s, d): \n",
    "        # Mark all the vertices as not visited \n",
    "        visited =[False]*(self.V) \n",
    "   \n",
    "        # Create a queue for BFS \n",
    "        queue=[] \n",
    "   \n",
    "        # Mark the source node as visited and enqueue it \n",
    "        queue.append(s) \n",
    "        visited[s] = True\n",
    "   \n",
    "        while queue :\n",
    "            #Dequeue a vertex from queue  \n",
    "            n = queue.pop(0) \n",
    "              \n",
    "            # If this adjacent node is the destination node, \n",
    "            # then return true \n",
    "            if n == d: \n",
    "                 return True\n",
    "  \n",
    "            #  Else, continue to do BFS \n",
    "            for i in self.graph[n]: \n",
    "                if visited[i] == False: \n",
    "                    queue.append(i) \n",
    "                    visited[i] = True\n",
    "         # If BFS is complete without visited d \n",
    "        return False\n",
    "    "
   ]
  },
  {
   "cell_type": "markdown",
   "metadata": {},
   "source": [
    "## Main program"
   ]
  },
  {
   "cell_type": "markdown",
   "metadata": {},
   "source": [
    "### Input matrix"
   ]
  },
  {
   "cell_type": "code",
   "execution_count": 42,
   "metadata": {},
   "outputs": [
    {
     "name": "stdout",
     "output_type": "stream",
     "text": [
      "dim(P)=\n",
      "4\n",
      "Input P\n",
      "0\n",
      "0.2\n",
      "0\n",
      "0.8\n",
      "0.3\n",
      "0\n",
      "0.7\n",
      "0\n",
      "0\n",
      "0.4\n",
      "0\n",
      "0.6\n",
      "0.5\n",
      "0\n",
      "0.5\n",
      "0\n",
      "[[0.  0.2 0.  0.8]\n",
      " [0.3 0.  0.7 0. ]\n",
      " [0.  0.4 0.  0.6]\n",
      " [0.5 0.  0.5 0. ]]\n"
     ]
    }
   ],
   "source": [
    "import numpy as np\n",
    "print('dim(P)=')      #dimension\n",
    "n=int(input())\n",
    "print(\"Input P\")     #left to right, up to down\n",
    "P=np.zeros([n,n])\n",
    "for i in range(n):\n",
    "    for j in range(n):\n",
    "        P[i,j]=float(input())\n",
    "print(P)"
   ]
  },
  {
   "cell_type": "markdown",
   "metadata": {},
   "source": [
    "### Input states"
   ]
  },
  {
   "cell_type": "code",
   "execution_count": 43,
   "metadata": {},
   "outputs": [
    {
     "name": "stdout",
     "output_type": "stream",
     "text": [
      "input states\n",
      "0\n",
      "1\n",
      "2\n",
      "3\n",
      "[0, 1, 2, 3]\n"
     ]
    }
   ],
   "source": [
    "states=[]\n",
    "print('input states')\n",
    "for i in range(n):\n",
    "    states.append(int(input()))\n",
    "print(states)"
   ]
  },
  {
   "cell_type": "markdown",
   "metadata": {},
   "source": [
    "### Check path"
   ]
  },
  {
   "cell_type": "code",
   "execution_count": 44,
   "metadata": {
    "scrolled": true
   },
   "outputs": [
    {
     "name": "stdout",
     "output_type": "stream",
     "text": [
      "Nhap vao 2 trang thai can tim \n",
      " Trang thai dau la i=\n",
      "1\n",
      "Trang thai thu 2 la j= \n",
      "2\n",
      "1  <-> 2 \n"
     ]
    }
   ],
   "source": [
    "g=Graph(n)\n",
    "\n",
    "# make edge\n",
    "for i in range(n):\n",
    "    for j in range(n):\n",
    "        if P[i][j]>0:\n",
    "            g.addEdge(states[i],states[j])\n",
    "while True:\n",
    "    print(\"Nhap vao 2 trang thai can tim \\n Trang thai dau la i=\")\n",
    "    i=int(input())\n",
    "    print(\"Trang thai thu 2 la j= \")\n",
    "    j= int(input())\n",
    "    if not (i and j) in states:\n",
    "        print(\"\\n Nhap lai di! \\n\")\n",
    "    else:\n",
    "        break\n",
    "\n",
    "if g.isReachable(states[i],states[j]) and g.isReachable(states[j],states[i]):\n",
    "    print(\"%d  <-> %d \"%(i,j))\n",
    "elif g.isReachable(states[i],states[j]):\n",
    "    print(\"%d -> %d \"%(i,j))\n",
    "else:\n",
    "    print(\"No path from %d to %d\"%(i,j))\n"
   ]
  },
  {
   "cell_type": "markdown",
   "metadata": {},
   "source": [
    "## Simplify matrix"
   ]
  },
  {
   "cell_type": "code",
   "execution_count": 45,
   "metadata": {},
   "outputs": [
    {
     "name": "stdout",
     "output_type": "stream",
     "text": [
      "P is Simplify\n"
     ]
    }
   ],
   "source": [
    "\n",
    "a=[0]*n\n",
    "for i in range(n):\n",
    "    for j in range(n):\n",
    "        if (g.isReachable(states[i],states[j]) and g.isReachable(states[j],states[i])):\n",
    "            a[i]=1\n",
    "# show\n",
    "if np.all(a):\n",
    "    print('P is Simplify')\n",
    "else:\n",
    "    print('P is not Simplify')\n",
    "    "
   ]
  },
  {
   "cell_type": "markdown",
   "metadata": {},
   "source": [
    "## Formal Matrix"
   ]
  },
  {
   "cell_type": "code",
   "execution_count": 48,
   "metadata": {},
   "outputs": [
    {
     "name": "stdout",
     "output_type": "stream",
     "text": [
      "P is not Formal\n"
     ]
    }
   ],
   "source": [
    "P_n_step=P\n",
    "k=1\n",
    "while k<1000:\n",
    "    if(np.all(P_n_step)):\n",
    "        k=1\n",
    "        break\n",
    "    else:\n",
    "        k+=1\n",
    "        P_n_step=np.dot(P_n_step,P)\n",
    "if k==1:\n",
    "    print(\"P is Formal Matrix\")\n",
    "else:\n",
    "    print('P is not Formal')"
   ]
  },
  {
   "cell_type": "code",
   "execution_count": null,
   "metadata": {},
   "outputs": [],
   "source": []
  }
 ],
 "metadata": {
  "kernelspec": {
   "display_name": "Python 3",
   "language": "python",
   "name": "python3"
  },
  "language_info": {
   "codemirror_mode": {
    "name": "ipython",
    "version": 3
   },
   "file_extension": ".py",
   "mimetype": "text/x-python",
   "name": "python",
   "nbconvert_exporter": "python",
   "pygments_lexer": "ipython3",
   "version": "3.7.4"
  }
 },
 "nbformat": 4,
 "nbformat_minor": 2
}
